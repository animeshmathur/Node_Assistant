{
 "cells": [
  {
   "cell_type": "code",
   "execution_count": 1,
   "metadata": {},
   "outputs": [],
   "source": [
    "import pandas as pd\n",
    "import numpy as np\n",
    "\n",
    "from sklearn.model_selection import train_test_split\n",
    "from sklearn.feature_extraction.text import TfidfVectorizer\n",
    "from sklearn.pipeline import Pipeline\n",
    "from sklearn import metrics"
   ]
  },
  {
   "cell_type": "code",
   "execution_count": 2,
   "metadata": {},
   "outputs": [],
   "source": [
    "df = pd.read_csv('./training_data.csv')"
   ]
  },
  {
   "cell_type": "code",
   "execution_count": 3,
   "metadata": {},
   "outputs": [
    {
     "data": {
      "text/plain": [
       "(98, 2)"
      ]
     },
     "execution_count": 3,
     "metadata": {},
     "output_type": "execute_result"
    }
   ],
   "source": [
    "df.shape"
   ]
  },
  {
   "cell_type": "code",
   "execution_count": 4,
   "metadata": {},
   "outputs": [
    {
     "data": {
      "text/html": [
       "<div>\n",
       "<style scoped>\n",
       "    .dataframe tbody tr th:only-of-type {\n",
       "        vertical-align: middle;\n",
       "    }\n",
       "\n",
       "    .dataframe tbody tr th {\n",
       "        vertical-align: top;\n",
       "    }\n",
       "\n",
       "    .dataframe thead th {\n",
       "        text-align: right;\n",
       "    }\n",
       "</style>\n",
       "<table border=\"1\" class=\"dataframe\">\n",
       "  <thead>\n",
       "    <tr style=\"text-align: right;\">\n",
       "      <th></th>\n",
       "      <th>Text</th>\n",
       "      <th>Action_Key</th>\n",
       "    </tr>\n",
       "  </thead>\n",
       "  <tbody>\n",
       "    <tr>\n",
       "      <th>0</th>\n",
       "      <td>npm list</td>\n",
       "      <td>npm_list</td>\n",
       "    </tr>\n",
       "    <tr>\n",
       "      <th>1</th>\n",
       "      <td>list the dependencies</td>\n",
       "      <td>npm_list</td>\n",
       "    </tr>\n",
       "    <tr>\n",
       "      <th>2</th>\n",
       "      <td>list packages which are there in app</td>\n",
       "      <td>npm_list</td>\n",
       "    </tr>\n",
       "    <tr>\n",
       "      <th>3</th>\n",
       "      <td>what are the dependent packages</td>\n",
       "      <td>npm_list</td>\n",
       "    </tr>\n",
       "    <tr>\n",
       "      <th>4</th>\n",
       "      <td>execute list command</td>\n",
       "      <td>npm_list</td>\n",
       "    </tr>\n",
       "  </tbody>\n",
       "</table>\n",
       "</div>"
      ],
      "text/plain": [
       "                                   Text Action_Key\n",
       "0                              npm list   npm_list\n",
       "1                 list the dependencies   npm_list\n",
       "2  list packages which are there in app   npm_list\n",
       "3       what are the dependent packages   npm_list\n",
       "4                  execute list command   npm_list"
      ]
     },
     "execution_count": 4,
     "metadata": {},
     "output_type": "execute_result"
    }
   ],
   "source": [
    "df.head()"
   ]
  },
  {
   "cell_type": "code",
   "execution_count": 5,
   "metadata": {},
   "outputs": [],
   "source": [
    "X = df['Text']\n",
    "y = df['Action_Key']\n",
    "\n",
    "X_train, X_test, y_train, y_test = train_test_split(X, y, test_size=0.25, random_state=42)"
   ]
  },
  {
   "cell_type": "code",
   "execution_count": 6,
   "metadata": {},
   "outputs": [
    {
     "data": {
      "text/plain": [
       "npm_list       27\n",
       "npm_install    23\n",
       "npm_init       23\n",
       "Name: Action_Key, dtype: int64"
      ]
     },
     "execution_count": 6,
     "metadata": {},
     "output_type": "execute_result"
    }
   ],
   "source": [
    "y_train.value_counts()"
   ]
  },
  {
   "cell_type": "code",
   "execution_count": 7,
   "metadata": {},
   "outputs": [],
   "source": [
    "def evaluate_model(clf_model):\n",
    "    preds = clf_model.predict(X_test)\n",
    "    \n",
    "    print(\"Confusion Matrix:\")\n",
    "    print(metrics.confusion_matrix(y_test, preds))\n",
    "    \n",
    "    print(\"\\nClassification Report:\")\n",
    "    print(metrics.classification_report(y_test, preds)) \n",
    "    \n",
    "    print(\"\\nPrediction on texts in X_test:\\n\")\n",
    "    for cmd, actual, pred in zip(X_test, y_test, preds):\n",
    "        error = ''\n",
    "        if actual != pred:\n",
    "            error = '<-- Incorrect!'\n",
    "        print(f\"{cmd:{50}} - {pred} {error}\")"
   ]
  },
  {
   "cell_type": "markdown",
   "metadata": {},
   "source": [
    "# KNN Model"
   ]
  },
  {
   "cell_type": "code",
   "execution_count": 8,
   "metadata": {},
   "outputs": [],
   "source": [
    "from sklearn.neighbors import KNeighborsClassifier"
   ]
  },
  {
   "cell_type": "code",
   "execution_count": 19,
   "metadata": {},
   "outputs": [
    {
     "data": {
      "text/plain": [
       "Pipeline(memory=None,\n",
       "     steps=[('tfidf', TfidfVectorizer(analyzer='word', binary=False, decode_error='strict',\n",
       "        dtype=<class 'numpy.float64'>, encoding='utf-8', input='content',\n",
       "        lowercase=True, max_df=1.0, max_features=None, min_df=1,\n",
       "        ngram_range=(1, 1), norm='l2', preprocessor=None, smooth_idf=True,...ki',\n",
       "           metric_params=None, n_jobs=None, n_neighbors=3, p=2,\n",
       "           weights='uniform'))])"
      ]
     },
     "execution_count": 19,
     "metadata": {},
     "output_type": "execute_result"
    }
   ],
   "source": [
    "knn_clf = Pipeline([\n",
    "    ('tfidf', TfidfVectorizer()),\n",
    "    ('clf', KNeighborsClassifier(n_neighbors=3))\n",
    "])\n",
    "\n",
    "knn_clf.fit(X_train, y_train)"
   ]
  },
  {
   "cell_type": "code",
   "execution_count": 20,
   "metadata": {},
   "outputs": [
    {
     "name": "stdout",
     "output_type": "stream",
     "text": [
      "Confusion Matrix:\n",
      "[[8 0 0]\n",
      " [0 8 0]\n",
      " [0 0 9]]\n",
      "\n",
      "Classification Report:\n",
      "              precision    recall  f1-score   support\n",
      "\n",
      "    npm_init       1.00      1.00      1.00         8\n",
      " npm_install       1.00      1.00      1.00         8\n",
      "    npm_list       1.00      1.00      1.00         9\n",
      "\n",
      "   micro avg       1.00      1.00      1.00        25\n",
      "   macro avg       1.00      1.00      1.00        25\n",
      "weighted avg       1.00      1.00      1.00        25\n",
      "\n",
      "\n",
      "Prediction on texts in X_test:\n",
      "\n",
      "treat this folder as npm project                   - npm_init \n",
      "help me setup the package.json                     - npm_init \n",
      "resolve all dependencies for this project          - npm_install \n",
      "show installed packages                            - npm_list \n",
      "add a package                                      - npm_install \n",
      "download all packages                              - npm_install \n",
      "configure npm in this directory                    - npm_init \n",
      "initialise this with npm                           - npm_init \n",
      "I want to know which packages are dependent        - npm_list \n",
      "npm list                                           - npm_list \n",
      "show set of dependencies in the project            - npm_list \n",
      "get all dependencies installed                     - npm_install \n",
      "set this as root directory of project              - npm_init \n",
      "which all dependencies are required                - npm_list \n",
      "set this as npm directory                          - npm_init \n",
      "execute list command                               - npm_list \n",
      "show npm packages used                             - npm_list \n",
      "can you tell me what are the dependencies?         - npm_list \n",
      "fetch dependencies                                 - npm_install \n",
      "install external sources                           - npm_install \n",
      "use this directory as root for project             - npm_init \n",
      "install external dependencies                      - npm_install \n",
      "install package                                    - npm_install \n",
      "show all dependent packages or modules             - npm_list \n",
      "create package.json                                - npm_init \n"
     ]
    }
   ],
   "source": [
    "evaluate_model(knn_clf)"
   ]
  },
  {
   "cell_type": "markdown",
   "metadata": {},
   "source": [
    "# Naive Bayes Model"
   ]
  },
  {
   "cell_type": "code",
   "execution_count": 21,
   "metadata": {},
   "outputs": [
    {
     "data": {
      "text/plain": [
       "Pipeline(memory=None,\n",
       "     steps=[('tfidf', TfidfVectorizer(analyzer='word', binary=False, decode_error='strict',\n",
       "        dtype=<class 'numpy.float64'>, encoding='utf-8', input='content',\n",
       "        lowercase=True, max_df=1.0, max_features=None, min_df=1,\n",
       "        ngram_range=(1, 1), norm='l2', preprocessor=None, smooth_idf=True,...rue,\n",
       "        vocabulary=None)), ('clf', MultinomialNB(alpha=1.0, class_prior=None, fit_prior=True))])"
      ]
     },
     "execution_count": 21,
     "metadata": {},
     "output_type": "execute_result"
    }
   ],
   "source": [
    "from sklearn.naive_bayes import MultinomialNB\n",
    "\n",
    "nb_clf = Pipeline([\n",
    "    ('tfidf', TfidfVectorizer()),\n",
    "    ('clf', MultinomialNB())\n",
    "])\n",
    "\n",
    "nb_clf.fit(X_train, y_train)"
   ]
  },
  {
   "cell_type": "code",
   "execution_count": 22,
   "metadata": {},
   "outputs": [
    {
     "name": "stdout",
     "output_type": "stream",
     "text": [
      "Confusion Matrix:\n",
      "[[8 0 0]\n",
      " [1 7 0]\n",
      " [0 1 8]]\n",
      "\n",
      "Classification Report:\n",
      "              precision    recall  f1-score   support\n",
      "\n",
      "    npm_init       0.89      1.00      0.94         8\n",
      " npm_install       0.88      0.88      0.88         8\n",
      "    npm_list       1.00      0.89      0.94         9\n",
      "\n",
      "   micro avg       0.92      0.92      0.92        25\n",
      "   macro avg       0.92      0.92      0.92        25\n",
      "weighted avg       0.92      0.92      0.92        25\n",
      "\n",
      "\n",
      "Prediction on texts in X_test:\n",
      "\n",
      "treat this folder as npm project                   - npm_init \n",
      "help me setup the package.json                     - npm_init \n",
      "resolve all dependencies for this project          - npm_install \n",
      "show installed packages                            - npm_list \n",
      "add a package                                      - npm_init <-- Incorrect!\n",
      "download all packages                              - npm_install \n",
      "configure npm in this directory                    - npm_init \n",
      "initialise this with npm                           - npm_init \n",
      "I want to know which packages are dependent        - npm_list \n",
      "npm list                                           - npm_list \n",
      "show set of dependencies in the project            - npm_list \n",
      "get all dependencies installed                     - npm_install \n",
      "set this as root directory of project              - npm_init \n",
      "which all dependencies are required                - npm_list \n",
      "set this as npm directory                          - npm_init \n",
      "execute list command                               - npm_list \n",
      "show npm packages used                             - npm_install <-- Incorrect!\n",
      "can you tell me what are the dependencies?         - npm_list \n",
      "fetch dependencies                                 - npm_install \n",
      "install external sources                           - npm_install \n",
      "use this directory as root for project             - npm_init \n",
      "install external dependencies                      - npm_install \n",
      "install package                                    - npm_install \n",
      "show all dependent packages or modules             - npm_list \n",
      "create package.json                                - npm_init \n"
     ]
    }
   ],
   "source": [
    "evaluate_model(nb_clf)"
   ]
  },
  {
   "cell_type": "markdown",
   "metadata": {},
   "source": [
    "# Linear SVC Model"
   ]
  },
  {
   "cell_type": "code",
   "execution_count": 13,
   "metadata": {},
   "outputs": [
    {
     "data": {
      "text/plain": [
       "Pipeline(memory=None,\n",
       "     steps=[('tfidf', TfidfVectorizer(analyzer='word', binary=False, decode_error='strict',\n",
       "        dtype=<class 'numpy.float64'>, encoding='utf-8', input='content',\n",
       "        lowercase=True, max_df=1.0, max_features=None, min_df=1,\n",
       "        ngram_range=(1, 1), norm='l2', preprocessor=None, smooth_idf=True,...ax_iter=1000,\n",
       "     multi_class='ovr', penalty='l2', random_state=None, tol=0.0001,\n",
       "     verbose=0))])"
      ]
     },
     "execution_count": 13,
     "metadata": {},
     "output_type": "execute_result"
    }
   ],
   "source": [
    "from sklearn.svm import LinearSVC\n",
    "\n",
    "lsvc_clf = Pipeline([\n",
    "    ('tfidf', TfidfVectorizer()),\n",
    "    ('clf', LinearSVC())\n",
    "])\n",
    "\n",
    "lsvc_clf.fit(X_train, y_train)"
   ]
  },
  {
   "cell_type": "code",
   "execution_count": 14,
   "metadata": {},
   "outputs": [
    {
     "name": "stdout",
     "output_type": "stream",
     "text": [
      "Confusion Matrix:\n",
      "[[8 0 0]\n",
      " [0 8 0]\n",
      " [0 0 9]]\n",
      "\n",
      "Classification Report:\n",
      "              precision    recall  f1-score   support\n",
      "\n",
      "    npm_init       1.00      1.00      1.00         8\n",
      " npm_install       1.00      1.00      1.00         8\n",
      "    npm_list       1.00      1.00      1.00         9\n",
      "\n",
      "   micro avg       1.00      1.00      1.00        25\n",
      "   macro avg       1.00      1.00      1.00        25\n",
      "weighted avg       1.00      1.00      1.00        25\n",
      "\n",
      "\n",
      "Prediction on texts in X_test:\n",
      "\n",
      "treat this folder as npm project                   - npm_init \n",
      "help me setup the package.json                     - npm_init \n",
      "resolve all dependencies for this project          - npm_install \n",
      "show installed packages                            - npm_list \n",
      "add a package                                      - npm_install \n",
      "download all packages                              - npm_install \n",
      "configure npm in this directory                    - npm_init \n",
      "initialise this with npm                           - npm_init \n",
      "I want to know which packages are dependent        - npm_list \n",
      "npm list                                           - npm_list \n",
      "show set of dependencies in the project            - npm_list \n",
      "get all dependencies installed                     - npm_install \n",
      "set this as root directory of project              - npm_init \n",
      "which all dependencies are required                - npm_list \n",
      "set this as npm directory                          - npm_init \n",
      "execute list command                               - npm_list \n",
      "show npm packages used                             - npm_list \n",
      "can you tell me what are the dependencies?         - npm_list \n",
      "fetch dependencies                                 - npm_install \n",
      "install external sources                           - npm_install \n",
      "use this directory as root for project             - npm_init \n",
      "install external dependencies                      - npm_install \n",
      "install package                                    - npm_install \n",
      "show all dependent packages or modules             - npm_list \n",
      "create package.json                                - npm_init \n"
     ]
    }
   ],
   "source": [
    "evaluate_model(lsvc_clf)"
   ]
  },
  {
   "cell_type": "markdown",
   "metadata": {},
   "source": [
    "# Playground for commands"
   ]
  },
  {
   "cell_type": "code",
   "execution_count": 18,
   "metadata": {},
   "outputs": [
    {
     "name": "stdout",
     "output_type": "stream",
     "text": [
      "provide info on dependent packages\n"
     ]
    },
    {
     "data": {
      "text/plain": [
       "array(['npm_list'], dtype=object)"
      ]
     },
     "execution_count": 18,
     "metadata": {},
     "output_type": "execute_result"
    }
   ],
   "source": [
    "# Run this cell and enter command text to predict\n",
    "lsvc_clf.predict([input()])"
   ]
  },
  {
   "cell_type": "code",
   "execution_count": null,
   "metadata": {},
   "outputs": [],
   "source": []
  }
 ],
 "metadata": {
  "kernelspec": {
   "display_name": "Python 3",
   "language": "python",
   "name": "python3"
  },
  "language_info": {
   "codemirror_mode": {
    "name": "ipython",
    "version": 3
   },
   "file_extension": ".py",
   "mimetype": "text/x-python",
   "name": "python",
   "nbconvert_exporter": "python",
   "pygments_lexer": "ipython3",
   "version": "3.7.9"
  }
 },
 "nbformat": 4,
 "nbformat_minor": 4
}
